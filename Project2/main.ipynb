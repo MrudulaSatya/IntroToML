{
 "cells": [
  {
   "cell_type": "code",
   "execution_count": 13,
   "metadata": {},
   "outputs": [],
   "source": [
    "from sklearn.cluster import KMeans\n",
    "import numpy as np\n",
    "import csv\n",
    "import math\n",
    "import matplotlib.pyplot\n",
    "from matplotlib import pyplot as plt"
   ]
  },
  {
   "cell_type": "code",
   "execution_count": 21,
   "metadata": {},
   "outputs": [],
   "source": [
    "def GetTargetVector(filePath1, filePath2):\n",
    "    t = []\n",
    "    with open(filePath1, 'rU') as f:\n",
    "        count = 0\n",
    "        reader = csv.reader(f)\n",
    "        for row in reader:\n",
    "            if(count>0):\n",
    "                t.append(int(row[2]))\n",
    "            count = count + 1  \n",
    "    f.close()\n",
    "    with open(filePath2, 'rU') as f:\n",
    "        count = 0\n",
    "        reader = csv.reader(f)\n",
    "        for row in reader:\n",
    "            if(count>0 and count < 1000):\n",
    "                t.append(int(row[2]))\n",
    "            count = count + 1\n",
    "    #print(\"Raw Target Generated..\")\n",
    "    return np.array(t)\n",
    "\n",
    "def GenerateRawData(filePath):    \n",
    "    dataMatrix = [] \n",
    "    with open(filePath, 'rU') as fi:\n",
    "        reader = csv.reader(fi)\n",
    "        count = 0\n",
    "        for row in reader:\n",
    "            if(count>0 ):\n",
    "                dataMatrix.append(row)   \n",
    "            count = count + 1;\n",
    "    fi.close()\n",
    "    \n",
    "    samePair = []\n",
    "    with open(\"HumanObserved-Features-Data\\same_pairs.csv\", 'rU') as fi:\n",
    "        reader = csv.reader(fi)\n",
    "        count = 0\n",
    "        for row in reader:\n",
    "            if(count>0 ):\n",
    "                samePair.append(row)   \n",
    "            count = count + 1;\n",
    "    fi.close()\n",
    "    \n",
    "    diffPair = []\n",
    "    with open(\"HumanObserved-Features-Data\\diffn_pairs.csv\", 'rU') as fi:\n",
    "        reader = csv.reader(fi)\n",
    "        count = 0\n",
    "        for row in reader:\n",
    "            if(count>0 ):\n",
    "                diffPair.append(row)   \n",
    "            count = count + 1;\n",
    "    fi.close()\n",
    "    \n",
    "    finalDataMatrix = []\n",
    "    for row in samePair:\n",
    "        dataRow = []\n",
    "        flag = 0\n",
    "        for i in range(len(dataMatrix)):\n",
    "            if(row[0] == dataMatrix[i][1]):\n",
    "                dataRow.append(dataMatrix[i][2:11])\n",
    "                for j in range(len(dataMatrix)):\n",
    "                    if(row[1]==dataMatrix[j][1]):\n",
    "                        dataRow.append(dataMatrix[j][2:11])\n",
    "                        flag = 1\n",
    "                        finalDataMatrix.append(dataRow)\n",
    "                        break;\n",
    "                \n",
    "            if(flag == 1):\n",
    "                break;\n",
    "    count = 0\n",
    "    for row in diffPair:\n",
    "        if(count < 999):\n",
    "            dataRow = []\n",
    "            flag = 0\n",
    "            for i in range(len(dataMatrix)):\n",
    "                if(row[0] == dataMatrix[i][1]):\n",
    "                    dataRow.append(dataMatrix[i][2:11])\n",
    "                    for j in range(len(dataMatrix)):\n",
    "                        if(row[1]==dataMatrix[j][1]):\n",
    "                            dataRow.append(dataMatrix[j][2:11])\n",
    "                            flag = 1\n",
    "                            finalDataMatrix.append(dataRow)\n",
    "                            break;\n",
    "\n",
    "                if(flag == 1):\n",
    "                    break;\n",
    "            count = count + 1\n",
    "    return np.array(finalDataMatrix)    \n",
    "\n",
    "def GenerateRawData1(filePath): \n",
    "    \n",
    "    dataMatrix = [] \n",
    "    with open(filePath, 'rU') as fi:\n",
    "        reader = csv.reader(fi)\n",
    "        count = 0\n",
    "        for row in reader:\n",
    "            if(count>0 ):\n",
    "                dataMatrix.append(row)   \n",
    "            count = count + 1;\n",
    "    fi.close()\n",
    "    \n",
    "    samePair = []\n",
    "    with open(\"HumanObserved-Features-Data\\same_pairs.csv\", 'rU') as fi:\n",
    "        reader = csv.reader(fi)\n",
    "        count = 0\n",
    "        for row in reader:\n",
    "            if(count>0 ):\n",
    "                samePair.append(row)   \n",
    "            count = count + 1;\n",
    "    fi.close()\n",
    "    \n",
    "    diffPair = []\n",
    "    with open(\"HumanObserved-Features-Data\\diffn_pairs.csv\", 'rU') as fi:\n",
    "        reader = csv.reader(fi)\n",
    "        count = 0\n",
    "        for row in reader:\n",
    "            if(count>0 ):\n",
    "                diffPair.append(row)   \n",
    "            count = count + 1;\n",
    "    fi.close()\n",
    "   \n",
    "    \n",
    "    count = 0\n",
    "    finalDataMatrix = []\n",
    "    for row in samePair:\n",
    "            dataRow = []\n",
    "            flag = 0\n",
    "            for i in range(len(dataMatrix)):\n",
    "              \n",
    "                if(row[0] == dataMatrix[i][1]):\n",
    "                   \n",
    "                    dataRow.append(list(map(int ,dataMatrix[i][2:11])))\n",
    "                    for j in range(len(dataMatrix)):\n",
    "                        if(row[1]==dataMatrix[j][1]):\n",
    "                            dataRow.append(list(map(int,dataMatrix[j][2:11])))\n",
    "                            flag = 1\n",
    "                            dataRow = np.array(dataRow)\n",
    "                            final = dataRow[0] - dataRow[1]\n",
    "                            finalDataMatrix.append(final)\n",
    "                            break;\n",
    "\n",
    "                if(flag == 1):\n",
    "                    break;\n",
    "           \n",
    "    count = 0\n",
    "    for row in diffPair:\n",
    "        if(count < 999):\n",
    "            dataRow = []\n",
    "            flag = 0\n",
    "            for i in range(len(dataMatrix)):\n",
    "               \n",
    "                if(row[0] == dataMatrix[i][1]):\n",
    "                   \n",
    "                    dataRow.append(list(map(int,dataMatrix[i][2:11])))\n",
    "                    for j in range(len(dataMatrix)):\n",
    "                        if(row[1]==dataMatrix[j][1]):\n",
    "                            dataRow.append(list(map(int,dataMatrix[j][2:11])))\n",
    "                            flag = 1\n",
    "                            dataRow = np.array(dataRow)\n",
    "                            final =  dataRow[0] - dataRow[1]\n",
    "                            finalDataMatrix.append(final)\n",
    "                            break;\n",
    "\n",
    "                if(flag == 1):\n",
    "                    break;\n",
    "            count = count + 1\n",
    "    return np.array(finalDataMatrix)   \n",
    "        \n",
    "def GenerateTrainingTarget(rawTraining,TrainingPercent = 80):\n",
    "    TrainingLen = int(math.ceil(len(rawTraining)*(TrainingPercent*0.01)))\n",
    "    print(len(rawTraining))\n",
    "    t           = rawTraining[0:TrainingLen]\n",
    "    #print(str(TrainingPercent) + \"% Training Target Generated..\")\n",
    "    return t\n",
    "\n",
    "def GenerateTrainingDataMatrix(rawData, TrainingPercent = 80):\n",
    "    T_len = int(math.ceil(len(rawData)*(0.01*TrainingPercent)))\n",
    "    print(len(rawData))\n",
    "    d2 = rawData[0:T_len,:]\n",
    "    #print(str(TrainingPercent) + \"% Training Data Generated..\")\n",
    "    return d2\n",
    "\n",
    "def GenerateValData(rawData, ValPercent, TrainingCount): \n",
    "    valSize = int(math.ceil(len(rawData)*(ValPercent*0.01)))\n",
    "    print(TrainingCount)\n",
    "    print(valSize)\n",
    "    V_End = TrainingCount + valSize\n",
    "    print(V_End)\n",
    "    dataMatrix = rawData[TrainingCount+1:V_End,:]\n",
    "    #print (str(ValPercent) + \"% Val Data Generated..\")  \n",
    "    return dataMatrix\n",
    "\n",
    "def GenerateValTargetVector(rawData, ValPercent, TrainingCount): \n",
    "    valSize = int(math.ceil(len(rawData)*(ValPercent*0.01)))\n",
    "    V_End = TrainingCount + valSize\n",
    "    t =rawData[TrainingCount+1:V_End]\n",
    "    #print (str(ValPercent) + \"% Val Target Data Generated..\")\n",
    "    return t\n",
    "\n",
    "def GenerateBigSigma(Data, MuMatrix,TrainingPercent,IsSynthetic):\n",
    "    DataT       = np.transpose(Data)\n",
    "    BigSigma    = np.zeros((len(DataT),len(DataT)))\n",
    "    TrainingLen = math.ceil(len(Data)*(TrainingPercent*0.01))      \n",
    "    varVect     = []\n",
    "    for i in range(0,len(DataT)):\n",
    "        vct = []\n",
    "        for j in range(0,int(TrainingLen)):\n",
    "            vct.append(DataT[i][j]) \n",
    "        varVect.append(np.var(vct))\n",
    "       \n",
    "    for j in range(len(DataT)):\n",
    "        BigSigma[j][j] = varVect[j]\n",
    "    if IsSynthetic == True:\n",
    "        BigSigma = np.dot(3,BigSigma)\n",
    "    else:\n",
    "        BigSigma = np.dot(200,BigSigma)\n",
    "    ##print (\"BigSigma Generated..\")\n",
    "    return BigSigma\n",
    "\n",
    "def GetScalar(DataRow,MuRow, BigSigInv):  \n",
    "    R = np.subtract(DataRow,MuRow)\n",
    "    T = np.dot(BigSigInv,R)  \n",
    "    L = np.dot(np.transpose(R),T)\n",
    "    return L\n",
    "\n",
    "def GetRadialBasisOut(DataRow,MuRow, BigSigInv):    \n",
    "    phi_x = math.exp(-0.5*GetScalar(DataRow,MuRow,BigSigInv))\n",
    "    return phi_x\n",
    "\n",
    "def GetWeightsClosedForm(PHI, T, Lambda):\n",
    "    Lambda_I = np.identity(len(PHI[0]))\n",
    "    for i in range(0,len(PHI[0])):\n",
    "        Lambda_I[i][i] = Lambda\n",
    "    PHI_T       = np.transpose(PHI)\n",
    "    PHI_SQR     = np.dot(PHI_T,PHI)\n",
    "    PHI_SQR_LI  = np.add(Lambda_I,PHI_SQR)\n",
    "    PHI_SQR_INV = np.linalg.inv(PHI_SQR_LI)\n",
    "    INTER       = np.dot(PHI_SQR_INV, PHI_T)\n",
    "    W           = np.dot(INTER, T)\n",
    "    ##print (\"Training Weights Generated..\")\n",
    "    return W\n",
    "\n",
    "def GetPhiMatrix(Data, MuMatrix, BigSigma, TrainingPercent = 80):\n",
    "    #DataT = np.transpose(Data)\n",
    "    TrainingLen = math.ceil(len(Data)*(TrainingPercent*0.01))         \n",
    "    PHI = np.zeros((int(TrainingLen),len(MuMatrix))) \n",
    "    BigSigInv = np.linalg.inv(BigSigma)\n",
    "    for  C in range(0,len(MuMatrix)):\n",
    "        for R in range(0,int(TrainingLen)):\n",
    "            PHI[R][C] = GetRadialBasisOut(Data[R], MuMatrix[C], BigSigInv)\n",
    "        if(C == 9):\n",
    "            break;\n",
    "    #print (\"PHI Generated..\")\n",
    "    return PHI\n",
    "\n",
    "def GetValTest(VAL_PHI,W):\n",
    "    Y = np.dot(W,np.transpose(VAL_PHI))\n",
    "    ##print (\"Test Out Generated..\")\n",
    "    return Y\n",
    "\n",
    "def GetErms(VAL_TEST_OUT,ValDataAct):\n",
    "    sum = 0.0\n",
    "    t=0\n",
    "    accuracy = 0.0\n",
    "    counter = 0\n",
    "    val = 0.0\n",
    "    for i in range (0,len(VAL_TEST_OUT)):\n",
    "        sum = sum + math.pow((ValDataAct[i] - VAL_TEST_OUT[i]),2)\n",
    "        if(int(np.around(VAL_TEST_OUT[i], 0)) == ValDataAct[i]):\n",
    "            counter+=1\n",
    "    accuracy = (float((counter*100))/float(len(VAL_TEST_OUT)))\n",
    "    ##print (\"Accuracy Generated..\")\n",
    "    ##print (\"Validation E_RMS : \" + str(math.sqrt(sum/len(VAL_TEST_OUT))))\n",
    "    return (str(accuracy) + ',' +  str(math.sqrt(sum/len(VAL_TEST_OUT))))\n",
    "\n"
   ]
  },
  {
   "cell_type": "markdown",
   "metadata": {},
   "source": [
    "## Fetch and Prepare Dataset"
   ]
  },
  {
   "cell_type": "code",
   "execution_count": 22,
   "metadata": {},
   "outputs": [
    {
     "name": "stderr",
     "output_type": "stream",
     "text": [
      "C:\\Users\\Dopt\\Anaconda3\\lib\\site-packages\\ipykernel_launcher.py:3: DeprecationWarning: 'U' mode is deprecated\n",
      "  This is separate from the ipykernel package so we can avoid doing imports until\n",
      "C:\\Users\\Dopt\\Anaconda3\\lib\\site-packages\\ipykernel_launcher.py:11: DeprecationWarning: 'U' mode is deprecated\n",
      "  # This is added back by InteractiveShellApp.init_path()\n",
      "C:\\Users\\Dopt\\Anaconda3\\lib\\site-packages\\ipykernel_launcher.py:91: DeprecationWarning: 'U' mode is deprecated\n",
      "C:\\Users\\Dopt\\Anaconda3\\lib\\site-packages\\ipykernel_launcher.py:101: DeprecationWarning: 'U' mode is deprecated\n",
      "C:\\Users\\Dopt\\Anaconda3\\lib\\site-packages\\ipykernel_launcher.py:111: DeprecationWarning: 'U' mode is deprecated\n"
     ]
    },
    {
     "name": "stdout",
     "output_type": "stream",
     "text": [
      "(1790, 9)\n",
      "(1790,)\n"
     ]
    }
   ],
   "source": [
    "RawTarget = GetTargetVector(\"HumanObserved-Features-Data\\same_pairs.csv\",\"HumanObserved-Features-Data\\diffn_pairs.csv\")\n",
    "RawData   =  GenerateRawData1(\"HumanObserved-Features-Data\\HumanObserved-Features-Data.csv\")\n",
    "\n",
    "print(RawData.shape)\n",
    "print(RawTarget.shape)"
   ]
  },
  {
   "cell_type": "markdown",
   "metadata": {},
   "source": [
    "## Prepare Training Data"
   ]
  },
  {
   "cell_type": "code",
   "execution_count": 23,
   "metadata": {},
   "outputs": [
    {
     "name": "stdout",
     "output_type": "stream",
     "text": [
      "1790\n",
      "1790\n",
      "(1432,)\n",
      "(1432, 9)\n"
     ]
    }
   ],
   "source": [
    "TrainingPercent = 80\n",
    "TrainingTarget = np.array(GenerateTrainingTarget(RawTarget,TrainingPercent))\n",
    "TrainingData   = GenerateTrainingDataMatrix(RawData,TrainingPercent)\n",
    "\n",
    "print(TrainingTarget.shape)\n",
    "print(TrainingData.shape)\n"
   ]
  },
  {
   "cell_type": "code",
   "execution_count": 71,
   "metadata": {},
   "outputs": [],
   "source": [
    "maxAcc = 0.0\n",
    "maxIter = 0\n",
    "C_Lambda = 0.03\n",
    "TrainingPercent = 80\n",
    "ValidationPercent = 10\n",
    "TestPercent = 10\n",
    "M = 20\n",
    "PHI = []\n",
    "IsSynthetic = False"
   ]
  },
  {
   "cell_type": "markdown",
   "metadata": {},
   "source": [
    "## Prepare Validation Data"
   ]
  },
  {
   "cell_type": "code",
   "execution_count": 72,
   "metadata": {},
   "outputs": [
    {
     "name": "stdout",
     "output_type": "stream",
     "text": [
      "1432\n",
      "179\n",
      "1611\n",
      "(178,)\n",
      "(178, 9)\n"
     ]
    }
   ],
   "source": [
    "ValDataAct = np.array(GenerateValTargetVector(RawTarget,ValidationPercent, (len(TrainingTarget))))\n",
    "ValData    = GenerateValData(RawData,ValidationPercent, (len(TrainingTarget)))\n",
    "\n",
    "print(ValDataAct.shape)\n",
    "print(ValData.shape)\n"
   ]
  },
  {
   "cell_type": "markdown",
   "metadata": {},
   "source": [
    "## Prepare Test Data"
   ]
  },
  {
   "cell_type": "code",
   "execution_count": 73,
   "metadata": {},
   "outputs": [
    {
     "name": "stdout",
     "output_type": "stream",
     "text": [
      "1610\n",
      "179\n",
      "1789\n",
      "(178,)\n",
      "(178, 9)\n"
     ]
    }
   ],
   "source": [
    "TestDataAct = np.array(GenerateValTargetVector(RawTarget,TestPercent, (len(TrainingTarget)+len(ValDataAct))))\n",
    "TestData = GenerateValData(RawData,TestPercent, (len(TrainingTarget)+len(ValDataAct)))\n",
    "\n",
    "print(TestDataAct.shape)\n",
    "print(TestData.shape)\n"
   ]
  },
  {
   "cell_type": "markdown",
   "metadata": {},
   "source": [
    "## Closed Form Solution [Finding Weights using Moore- Penrose pseudo- Inverse Matrix]"
   ]
  },
  {
   "cell_type": "code",
   "execution_count": 74,
   "metadata": {},
   "outputs": [],
   "source": [
    "ErmsArr = []\n",
    "AccuracyArr = []\n",
    "\n",
    "kmeans = KMeans(n_clusters=M, random_state=0).fit(TrainingData)\n",
    "Mu = kmeans.cluster_centers_\n",
    "\n",
    "\n",
    "\n",
    "BigSigma     = GenerateBigSigma(RawData, Mu, TrainingPercent,IsSynthetic)\n",
    "TRAINING_PHI = GetPhiMatrix(RawData, Mu, BigSigma, TrainingPercent)\n",
    "W            = GetWeightsClosedForm(TRAINING_PHI,TrainingTarget,(C_Lambda)) \n",
    "TEST_PHI     = GetPhiMatrix(TestData, Mu, BigSigma, 100) \n",
    "VAL_PHI      = GetPhiMatrix(ValData, Mu, BigSigma, 100)\n",
    "\n"
   ]
  },
  {
   "cell_type": "code",
   "execution_count": 75,
   "metadata": {},
   "outputs": [
    {
     "name": "stdout",
     "output_type": "stream",
     "text": [
      "(20, 9)\n",
      "(9, 9)\n",
      "(1432, 20)\n",
      "(20,)\n",
      "(178, 20)\n",
      "(178, 20)\n"
     ]
    }
   ],
   "source": [
    "print(Mu.shape)\n",
    "print(BigSigma.shape)\n",
    "print(TRAINING_PHI.shape)\n",
    "print(W.shape)\n",
    "print(VAL_PHI.shape)\n",
    "print(TEST_PHI.shape)\n"
   ]
  },
  {
   "cell_type": "markdown",
   "metadata": {},
   "source": [
    "## Finding Erms on training, validation and test set "
   ]
  },
  {
   "cell_type": "code",
   "execution_count": 76,
   "metadata": {},
   "outputs": [],
   "source": [
    "TR_TEST_OUT  = GetValTest(TRAINING_PHI,W)\n",
    "VAL_TEST_OUT = GetValTest(VAL_PHI,W)\n",
    "TEST_OUT     = GetValTest(TEST_PHI,W)\n",
    "\n",
    "\n",
    "\n",
    "TrainingAccuracy   = str(GetErms(TR_TEST_OUT,TrainingTarget))\n",
    "ValidationAccuracy = str(GetErms(VAL_TEST_OUT,ValDataAct))\n",
    "TestAccuracy       = str(GetErms(TEST_OUT,TestDataAct))\n",
    "\n"
   ]
  },
  {
   "cell_type": "code",
   "execution_count": 77,
   "metadata": {},
   "outputs": [
    {
     "name": "stdout",
     "output_type": "stream",
     "text": [
      "UBITname      = Mrudula Y\n",
      "Person Number = 50290843\n",
      "----------------------------------------------------\n",
      "------------------Project 2------------------------\n",
      "----------------------------------------------------\n",
      "-------Closed Form with Radial Basis Function-------\n",
      "----------------------------------------------------\n",
      "M = 10 \n",
      "Lambda = 0.9\n",
      "E_rms Training   = 0.47151883703071107\n",
      "E_rms Validation = 0.5092185680201197\n",
      "E_rms Testing    = 0.49731367856344194\n"
     ]
    }
   ],
   "source": [
    "print ('UBITname      = Mrudula Y')\n",
    "print ('Person Number = 50290843')\n",
    "print ('----------------------------------------------------')\n",
    "print (\"------------------Project 2------------------------\")\n",
    "print ('----------------------------------------------------')\n",
    "print (\"-------Closed Form with Radial Basis Function-------\")\n",
    "print ('----------------------------------------------------')\n",
    "print (\"M = 10 \\nLambda = 0.9\")\n",
    "print (\"E_rms Training   = \" + str(float(TrainingAccuracy.split(',')[1])))\n",
    "print (\"E_rms Validation = \" + str(float(ValidationAccuracy.split(',')[1])))\n",
    "print (\"E_rms Testing    = \" + str(float(TestAccuracy.split(',')[1])))\n"
   ]
  },
  {
   "cell_type": "markdown",
   "metadata": {},
   "source": [
    "## Gradient Descent solution for Linear Regression"
   ]
  },
  {
   "cell_type": "code",
   "execution_count": 78,
   "metadata": {},
   "outputs": [
    {
     "name": "stdout",
     "output_type": "stream",
     "text": [
      "----------------------------------------------------\n",
      "--------------Please Wait for 2 mins!----------------\n",
      "----------------------------------------------------\n"
     ]
    }
   ],
   "source": [
    "print ('----------------------------------------------------')\n",
    "print ('--------------Please Wait for 2 mins!----------------')\n",
    "print ('----------------------------------------------------')"
   ]
  },
  {
   "cell_type": "code",
   "execution_count": 81,
   "metadata": {},
   "outputs": [],
   "source": [
    "def GetErms1(VAL_TEST_OUT,ValDataAct):\n",
    "    sum = 0.0\n",
    "    t=0\n",
    "    accuracy = 0.0\n",
    "    counter = 0\n",
    "    val = 0.0\n",
    "    VAL_TEST_OUT = np.array(VAL_TEST_OUT)\n",
    "    for i in range (0,len(np.transpose(VAL_TEST_OUT))):\n",
    "        sum = sum + math.pow((ValDataAct[i] - VAL_TEST_OUT[0][i]),2)\n",
    "        if(int(np.around(VAL_TEST_OUT[0][i], 0)) == ValDataAct[i]):\n",
    "            counter+=1\n",
    "    accuracy = (float((counter*100))/float(len(np.transpose(VAL_TEST_OUT))))\n",
    "    ##print (\"Accuracy Generated..\")\n",
    "    ##print (\"Validation E_RMS : \" + str(math.sqrt(sum/len(VAL_TEST_OUT))))\n",
    "    return (str(accuracy) + ',' +  str(math.sqrt(sum/len(np.transpose(VAL_TEST_OUT)))))\n",
    "\n",
    "W_Now        = np.dot(220, W)\n",
    "La           = 2\n",
    "learningRate = 0.01\n",
    "L_Erms_Val   = []\n",
    "L_Erms_TR    = []\n",
    "L_Erms_Test  = []\n",
    "W_Mat        = []\n",
    "\n",
    "for i in range(0,400):\n",
    "    \n",
    "    #print ('---------Iteration: ' + str(i) + '--------------')\n",
    "    temp1 = np.matrix((TrainingTarget[i] - np.dot(W_Now,TRAINING_PHI[i])))\n",
    "    temp2 = np.matrix((TRAINING_PHI[i]))\n",
    "    Delta_E_D     = -np.dot(temp1,temp2)\n",
    "    La_Delta_E_W  = np.dot(La,W_Now)\n",
    "    Delta_E       = np.add(Delta_E_D,La_Delta_E_W)    \n",
    "    Delta_W       = -np.dot(learningRate,Delta_E)\n",
    "    W_T_Next      = W_Now + Delta_W\n",
    "    W_Now         = W_T_Next\n",
    "    \n",
    "    #-----------------TrainingData Accuracy---------------------#\n",
    "    TR_TEST_OUT   = GetValTest(TRAINING_PHI,W_T_Next) \n",
    "    Erms_TR       = GetErms1(TR_TEST_OUT,TrainingTarget)\n",
    "    L_Erms_TR.append(float(Erms_TR.split(',')[1]))\n",
    "    \n",
    "    #-----------------ValidationData Accuracy---------------------#\n",
    "    VAL_TEST_OUT  = GetValTest(VAL_PHI,W_T_Next) \n",
    "    Erms_Val      = GetErms1(VAL_TEST_OUT,ValDataAct)\n",
    "    L_Erms_Val.append(float(Erms_Val.split(',')[1]))\n",
    "    \n",
    "    #-----------------TestingData Accuracy---------------------#\n",
    "    TEST_OUT      = GetValTest(TEST_PHI,W_T_Next) \n",
    "    Erms_Test = GetErms1(TEST_OUT,TestDataAct)\n",
    "    L_Erms_Test.append(float(Erms_Test.split(',')[1]))\n",
    "    \n"
   ]
  },
  {
   "cell_type": "code",
   "execution_count": 82,
   "metadata": {
    "scrolled": false
   },
   "outputs": [
    {
     "name": "stdout",
     "output_type": "stream",
     "text": [
      "----------Gradient Descent Solution--------------------\n",
      "M = 15 \n",
      "Lambda  = 0.0001\n",
      "eta=0.01\n",
      "E_rms Training   = 0.47929\n",
      "E_rms Validation = 0.41384\n",
      "E_rms Testing    = 0.3969\n"
     ]
    }
   ],
   "source": [
    "print ('----------Gradient Descent Solution--------------------')\n",
    "print (\"M = 15 \\nLambda  = 0.0001\\neta=0.01\")\n",
    "print (\"E_rms Training   = \" + str(np.around(min(L_Erms_TR),5)))\n",
    "print (\"E_rms Validation = \" + str(np.around(min(L_Erms_Val),5)))\n",
    "print (\"E_rms Testing    = \" + str(np.around(min(L_Erms_Test),5)))"
   ]
  },
  {
   "cell_type": "code",
   "execution_count": null,
   "metadata": {},
   "outputs": [],
   "source": []
  },
  {
   "cell_type": "code",
   "execution_count": null,
   "metadata": {},
   "outputs": [],
   "source": []
  },
  {
   "cell_type": "code",
   "execution_count": null,
   "metadata": {},
   "outputs": [],
   "source": []
  },
  {
   "cell_type": "code",
   "execution_count": null,
   "metadata": {},
   "outputs": [],
   "source": []
  },
  {
   "cell_type": "code",
   "execution_count": null,
   "metadata": {},
   "outputs": [],
   "source": []
  },
  {
   "cell_type": "code",
   "execution_count": null,
   "metadata": {},
   "outputs": [],
   "source": []
  }
 ],
 "metadata": {
  "kernelspec": {
   "display_name": "Python 3",
   "language": "python",
   "name": "python3"
  },
  "language_info": {
   "codemirror_mode": {
    "name": "ipython",
    "version": 3
   },
   "file_extension": ".py",
   "mimetype": "text/x-python",
   "name": "python",
   "nbconvert_exporter": "python",
   "pygments_lexer": "ipython3",
   "version": "3.7.0"
  }
 },
 "nbformat": 4,
 "nbformat_minor": 2
}
